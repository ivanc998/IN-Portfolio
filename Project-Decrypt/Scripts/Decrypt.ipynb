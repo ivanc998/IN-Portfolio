{
 "cells": [
  {
   "cell_type": "markdown",
   "id": "e9ba1886-464e-429d-b248-df00bce16bf8",
   "metadata": {},
   "source": [
    "Autor: Iván Gustavo Nieto"
   ]
  },
  {
   "cell_type": "markdown",
   "id": "dee142c6-4803-4bfa-9e89-d587eded2475",
   "metadata": {},
   "source": [
    "<h3> <font color = #5DADE2><b>Introducción </b></font></h3>\n",
    "<h4><font color = #F09426 > El sistema de encriptación monoalfabético se basa en hacer una asignación a cada una de las letras del mensaje que se pretende codificar y enviar. A lo largo de este cuadernillo desarrollaremos algunas funciones y bloques de código que puedan analizar y desencriptar textos codificados bajo una transformación afín.</font></h4>"
   ]
  },
  {
   "cell_type": "markdown",
   "id": "59dfe499-851f-4cff-9ad8-8850cf3bb39f",
   "metadata": {},
   "source": [
    "<h3> <font color = #5DADE2><b>Importe de modulos </b></font></h3>"
   ]
  },
  {
   "cell_type": "code",
   "execution_count": 1,
   "id": "1429124a-a87c-471f-99f8-eb12e29987b7",
   "metadata": {},
   "outputs": [],
   "source": [
    "# -------------------------------------------------------------------\n",
    "# Manejo de datos y graficos\n",
    "# -------------------------------------------------------------------\n",
    "import pandas as pd\n",
    "import seaborn as sns\n",
    "import matplotlib.pyplot as plt\n",
    "\n",
    "# -------------------------------------------------------------------\n",
    "# Estilo del comando print\n",
    "# -------------------------------------------------------------------\n",
    "from colorama import Fore\n",
    "from colorama import Style\n",
    "\n",
    "import urllib\n"
   ]
  },
  {
   "cell_type": "markdown",
   "id": "c256508b-7066-4133-b174-f81373aa91f7",
   "metadata": {},
   "source": [
    "<h4><font color = #F09426 >\n",
    "La codificación basada en una transformación afín corresponde con una congruencia de la forma:\n",
    "$$ C \\equiv aP + b \\text{ }(mod \\text{ } m)$$\n",
    "donde $0 \\leq a,b < m$, $(a,m) =1$ y  $ a \\neq 0$. El valor de $m$ representa el número de caracteres en el alfabeto. </font> </h4>\n",
    "<h4><font color = #F09426>\n",
    "La forma de decifrar estos textos es usando la frecuencia con que aparece cada letra.\n",
    "Usaremos archivos csv construidos usando web scraping los cuales se pueden encontrar en el siguiente </font> <a href = \"https://github.com/ivanc998/IN-Portfolio/tree/main/Project-Decrypt\"> enlace</a>. </h4> "
   ]
  },
  {
   "cell_type": "markdown",
   "id": "90658ff0-b38b-4fc4-afe3-1e31199ba2b2",
   "metadata": {},
   "source": [
    "<h3> <font color = #5DADE2><b>Definición de funciones auxiliares</b></font></h3>\n",
    "<h4> <font color = #F09426> El sistema de cigrafo por transformación afín se basa fuertemente en el hecho de poder establecer un sistema de congruencias y su \n",
    "respectiva solución. Una herramienta de vital importancia es el calculo del maximo común divisor entre dos entros positivos. Función \n",
    "que se define a continuación. </font> </h4>"
   ]
  },
  {
   "cell_type": "code",
   "execution_count": 2,
   "id": "5a6ac64b-ac18-4da0-a8fc-2e8e004bfba3",
   "metadata": {},
   "outputs": [],
   "source": [
    "def GCD(a, b):\n",
    "    \n",
    "    # Calculate the greatest common divisors of the integers a and b\n",
    "    if b == 0:\n",
    "        return a\n",
    "    return GCD(b, a % b)"
   ]
  },
  {
   "cell_type": "markdown",
   "id": "fac10683-aed3-4f43-be13-4f71df28bac0",
   "metadata": {},
   "source": [
    "<h4> <font color = #F09426> La forma de decifrar este tipo de mensajes es suponer que la letra más frecuente en el criptagrama está asociada a la letra más \n",
    "frecuente en el conjunto de todas la palabras del ingles. Una vez hecha esta suposición debemos verificar si es posible encontrar\n",
    "valores $a,b$ que cumplan todas las condiciones mencionadas en un principio. Para ello contruimos una función que dados los coeficientes\n",
    "supuestos en la asignación inicial encuentra los valores posibles para lograr decifrar el mensaje. </font> </h4>"
   ]
  },
  {
   "cell_type": "code",
   "execution_count": 3,
   "id": "0d38da15-20f0-41cb-b598-98fdfaf4e3d5",
   "metadata": {},
   "outputs": [],
   "source": [
    "def linear_congruences(x1, C1, x2, C2, m):\n",
    "    \n",
    "    # Find the solutios a and b to the system of linear congruences \n",
    "    # ax_1 + b ≡ C1(mod m), ax_2 + b ≡ C2(mod m) where (a,m) = 1,  a ≤ a,b < m and a≠0\n",
    "    \n",
    "    relative_primes = [x for x in range(1, m+1) if GCD(x, m) == 1] # Find all relative primes of m\n",
    "    solutions = [] # List to save all solutions that be found\n",
    "\n",
    "    for b in range(0, m):\n",
    "        for a in relative_primes:\n",
    "            if (((a*x1) + b - C1) % m == 0) and (((a*x2) + b - C2) % m == 0): # Verify all possible pairs in the congrences. \n",
    "                solutions.append((a,b)) # If the pair satifies then it is added to the list\n",
    "                \n",
    "    return solutions"
   ]
  },
  {
   "cell_type": "markdown",
   "id": "9a14cc88-0693-4cfa-b84e-b6a03b2e4dbd",
   "metadata": {},
   "source": [
    "<h4> <font color = #F09426> Una vez se tienen los candidatos para los enteros $a,b$ entonces se calcula la transformación inversa y se aplica a cada caracter del mensaje para decodificarlo. </font> </h4>"
   ]
  },
  {
   "cell_type": "code",
   "execution_count": 4,
   "id": "b6e69fbc-bde6-42c7-8172-37c366a31c60",
   "metadata": {},
   "outputs": [],
   "source": [
    "def decrypt_affine_transformation(a, b, m, encrypt_text):\n",
    "    \n",
    "    # Decrypt the given text aplying the inverse transformation of ax + b ≡ C(mod m) \n",
    "    # Inverse tranformtion x ≡ i(C - b)(mod m) where ia ≡ 1(mod m)\n",
    "    decrypt_text = \"\"\n",
    "    \n",
    "    # -------------------------------------------------------------------\n",
    "    # Find the inverse of a mod m\n",
    "    # -------------------------------------------------------------------\n",
    "    for i in range(1,m): \n",
    "        if (((i*a) - 1) % m ) == 0:\n",
    "            inverse_a = i\n",
    "            break\n",
    "    \n",
    "    # -------------------------------------------------------------------\n",
    "    # Aply the inverse tranformation to each word on the message\n",
    "    # -------------------------------------------------------------------\n",
    "    for c in encrypt_text:\n",
    "        if (97 <= ord(c)) and (ord(c) <= 122):\n",
    "            x = ord(c)-97\n",
    "            P = ((inverse_a*(x -b)) % m) + 97\n",
    "            decrypt_text += chr(P)\n",
    "    return decrypt_text"
   ]
  },
  {
   "cell_type": "markdown",
   "id": "bd47b52e-1670-4dce-9b5d-95e84a76f2b8",
   "metadata": {},
   "source": [
    "<h3> <font color = #5DADE2><b>Palabras en el inglés</b></font></h3>\n",
    "<h4> <font color = #F09426> Como mencionamos anteriormente la estrategia será asociar las letras más frecuentes en el ingles a las más frcuentes en el idioma.\n",
    "Para ello traeremos los datos necesarios del repositorio de git hub y lo prepararemos para su uso. </font> </h4>"
   ]
  },
  {
   "cell_type": "code",
   "execution_count": 5,
   "id": "0868874a-5c14-425a-896a-b9e32c8fde2c",
   "metadata": {},
   "outputs": [
    {
     "name": "stdout",
     "output_type": "stream",
     "text": [
      "<class 'pandas.core.frame.DataFrame'>\n",
      "RangeIndex: 26 entries, 0 to 25\n",
      "Data columns (total 2 columns):\n",
      " #   Column  Non-Null Count  Dtype \n",
      "---  ------  --------------  ----- \n",
      " 0   Letter  26 non-null     object\n",
      " 1   stats   26 non-null     int64 \n",
      "dtypes: int64(1), object(1)\n",
      "memory usage: 544.0+ bytes\n",
      "None\n"
     ]
    }
   ],
   "source": [
    "# --------------------------------------------------------------------------------------------------------------------\n",
    "# Extrect the database with the frecuency of each letter of a repository on gitgub\n",
    "# --------------------------------------------------------------------------------------------------------------------\n",
    "\n",
    "url = 'https://github.com/ivanc998/IN-Portfolio/blob/main/Project-Decrypt/csv-files/Frecuency_letters.csv?raw=true' \n",
    "words_frecuency = pd.read_csv(url, delimiter = ';') # Cargamos el archivo csv\n",
    "\n",
    "words_frecuency = words_frecuency.sort_values('stats', axis = 'index', ascending = False, ignore_index = True) # Sort descending the data\n",
    "\n",
    "# Verify the data are complete and not require be clean\n",
    "print(words_frecuency.info())"
   ]
  },
  {
   "cell_type": "code",
   "execution_count": 6,
   "id": "51588b19-22af-4d92-b1da-903d679c324d",
   "metadata": {},
   "outputs": [
    {
     "data": {
      "text/html": [
       "<div>\n",
       "<style scoped>\n",
       "    .dataframe tbody tr th:only-of-type {\n",
       "        vertical-align: middle;\n",
       "    }\n",
       "\n",
       "    .dataframe tbody tr th {\n",
       "        vertical-align: top;\n",
       "    }\n",
       "\n",
       "    .dataframe thead th {\n",
       "        text-align: right;\n",
       "    }\n",
       "</style>\n",
       "<table border=\"1\" class=\"dataframe\">\n",
       "  <thead>\n",
       "    <tr style=\"text-align: right;\">\n",
       "      <th></th>\n",
       "      <th>0</th>\n",
       "      <th>1</th>\n",
       "      <th>2</th>\n",
       "      <th>3</th>\n",
       "      <th>4</th>\n",
       "      <th>5</th>\n",
       "      <th>6</th>\n",
       "      <th>7</th>\n",
       "      <th>8</th>\n",
       "      <th>9</th>\n",
       "      <th>...</th>\n",
       "      <th>16</th>\n",
       "      <th>17</th>\n",
       "      <th>18</th>\n",
       "      <th>19</th>\n",
       "      <th>20</th>\n",
       "      <th>21</th>\n",
       "      <th>22</th>\n",
       "      <th>23</th>\n",
       "      <th>24</th>\n",
       "      <th>25</th>\n",
       "    </tr>\n",
       "  </thead>\n",
       "  <tbody>\n",
       "    <tr>\n",
       "      <th>Letter</th>\n",
       "      <td>e</td>\n",
       "      <td>i</td>\n",
       "      <td>a</td>\n",
       "      <td>r</td>\n",
       "      <td>n</td>\n",
       "      <td>t</td>\n",
       "      <td>o</td>\n",
       "      <td>s</td>\n",
       "      <td>l</td>\n",
       "      <td>c</td>\n",
       "      <td>...</td>\n",
       "      <td>y</td>\n",
       "      <td>b</td>\n",
       "      <td>f</td>\n",
       "      <td>v</td>\n",
       "      <td>w</td>\n",
       "      <td>k</td>\n",
       "      <td>z</td>\n",
       "      <td>x</td>\n",
       "      <td>q</td>\n",
       "      <td>j</td>\n",
       "    </tr>\n",
       "    <tr>\n",
       "      <th>stats</th>\n",
       "      <td>71312</td>\n",
       "      <td>62067</td>\n",
       "      <td>60076</td>\n",
       "      <td>55180</td>\n",
       "      <td>51921</td>\n",
       "      <td>51652</td>\n",
       "      <td>48487</td>\n",
       "      <td>43672</td>\n",
       "      <td>43138</td>\n",
       "      <td>35632</td>\n",
       "      <td>...</td>\n",
       "      <td>17547</td>\n",
       "      <td>15861</td>\n",
       "      <td>10213</td>\n",
       "      <td>8819</td>\n",
       "      <td>5961</td>\n",
       "      <td>5522</td>\n",
       "      <td>3150</td>\n",
       "      <td>2956</td>\n",
       "      <td>1814</td>\n",
       "      <td>1373</td>\n",
       "    </tr>\n",
       "  </tbody>\n",
       "</table>\n",
       "<p>2 rows × 26 columns</p>\n",
       "</div>"
      ],
      "text/plain": [
       "           0      1      2      3      4      5      6      7      8      9   \\\n",
       "Letter      e      i      a      r      n      t      o      s      l      c   \n",
       "stats   71312  62067  60076  55180  51921  51652  48487  43672  43138  35632   \n",
       "\n",
       "        ...     16     17     18    19    20    21    22    23    24    25  \n",
       "Letter  ...      y      b      f     v     w     k     z     x     q     j  \n",
       "stats   ...  17547  15861  10213  8819  5961  5522  3150  2956  1814  1373  \n",
       "\n",
       "[2 rows x 26 columns]"
      ]
     },
     "execution_count": 6,
     "metadata": {},
     "output_type": "execute_result"
    }
   ],
   "source": [
    "words_frecuency.transpose().head(2)"
   ]
  },
  {
   "cell_type": "code",
   "execution_count": 7,
   "id": "fd06716e-c52d-4556-b168-6a09a6706abe",
   "metadata": {},
   "outputs": [
    {
     "data": {
      "image/png": "[encoded data removed]",
      "text/plain": [
       "<Figure size 640x480 with 1 Axes>"
      ]
     },
     "metadata": {},
     "output_type": "display_data"
    }
   ],
   "source": [
    "sns.barplot(data = words_frecuency, x = 'Letter', y = 'stats')\n",
    "plt.show()"
   ]
  },
  {
   "cell_type": "markdown",
   "id": "e179719b-3246-440d-a581-88342ba31500",
   "metadata": {},
   "source": [
    "<h3> <font color = #5DADE2><b>Mensaje a desencriptar</b></font></h3>\n",
    "<h4><font color = #F09426>Ahora haremos un proceso similiar al texto que queremos desencriptar. Para ello lo ingresaremos como cadena de texto y crearemos una función que retorne un dataframe con la frecuencia de sus letras. </font></h4>"
   ]
  },
  {
   "cell_type": "code",
   "execution_count": 8,
   "id": "c4e7243a-af09-49bc-b1e1-545808a1f5f6",
   "metadata": {},
   "outputs": [],
   "source": [
    "# --------------------------------------------------------------------------------------------------------------------\n",
    "# Define function to prepare de message\n",
    "# --------------------------------------------------------------------------------------------------------------------\n",
    "\n",
    "def prepare_cryptogram(Text, info):\n",
    "    cryptogram = Text.replace(' ', '').lower() # Drop ths blank space and become to lower case each letter\n",
    "\n",
    "    # --------------------------------------------------------------------------------------------------------------------\n",
    "    # Dataframe of the cryptogram \n",
    "    # --------------------------------------------------------------------------------------------------------------------\n",
    "    letters_cryptogram = [x for x in cryptogram] # Put each character on a list\n",
    "    aux_df = pd.DataFrame({'lt' : letters_cryptogram}) # Create a dataframe with the list\n",
    "\n",
    "    Serie = aux_df['lt'].groupby(aux_df['lt']).count() # Find the frecuency of each letter\n",
    "    sk = Serie.index.tolist()\n",
    "    Frecuency = [Serie[t] for t in sk] # Build a list with each frecuency\n",
    "    \n",
    "    # Join all in a dataframe\n",
    "    df_cryptogram = pd.DataFrame({'Letter' : sk, 'Frecuency' : Frecuency}).sort_values('Frecuency', ascending = False, ignore_index = True) \n",
    "    \n",
    "    # --------------------------------------------------------------------------------------------------------------------\n",
    "    # Clean the dataframe \n",
    "    # --------------------------------------------------------------------------------------------------------------------\n",
    "    for J in range(df_cryptogram.shape[0]): # We analyze ech row on the dataframe\n",
    "    \n",
    "        lt = df_cryptogram.iloc[J]['Letter'] # Obtain the value in the 'Letter' column\n",
    "    \n",
    "        if not(97 <= ord(lt) and ord(lt) <= 123): # If it is not an alphabet element then it is remplaced by a None value\n",
    "            df_cryptogram.iloc[J, df_cryptogram.columns.get_loc('Letter')] = None\n",
    "    if info:\n",
    "        print(f\"It has been found {Fore.BLUE}{df_cryptogram.isnull().sum()['Letter']}{ Style.RESET_ALL} element(s) out the alphabet\") # Show which elemnts was found\n",
    "    \n",
    "    df_cryptogram.dropna(inplace = True)\n",
    "    df_cryptogram.reset_index(inplace = True,  drop = True)\n",
    "    \n",
    "    return [df_cryptogram, cryptogram]"
   ]
  },
  {
   "cell_type": "markdown",
   "id": "0f52d8e8-89eb-40f4-9c6f-dbe96dcf3a3d",
   "metadata": {},
   "source": [
    "<h4><font color = #F09426>Tratemos de decodificar un texto encriptado con los parámetros $a=5$ y $b=8$. </font></h4>"
   ]
  },
  {
   "cell_type": "code",
   "execution_count": 9,
   "id": "5c59a680-00b4-4f7a-b77c-9ae674634967",
   "metadata": {},
   "outputs": [
    {
     "name": "stdout",
     "output_type": "stream",
     "text": [
      "It has been found \u001b[34m1\u001b[0m element(s) out the alphabet\n"
     ]
    },
    {
     "data": {
      "text/html": [
       "<div>\n",
       "<style scoped>\n",
       "    .dataframe tbody tr th:only-of-type {\n",
       "        vertical-align: middle;\n",
       "    }\n",
       "\n",
       "    .dataframe tbody tr th {\n",
       "        vertical-align: top;\n",
       "    }\n",
       "\n",
       "    .dataframe thead th {\n",
       "        text-align: right;\n",
       "    }\n",
       "</style>\n",
       "<table border=\"1\" class=\"dataframe\">\n",
       "  <thead>\n",
       "    <tr style=\"text-align: right;\">\n",
       "      <th></th>\n",
       "      <th>0</th>\n",
       "      <th>1</th>\n",
       "      <th>2</th>\n",
       "      <th>3</th>\n",
       "      <th>4</th>\n",
       "      <th>5</th>\n",
       "      <th>6</th>\n",
       "      <th>7</th>\n",
       "      <th>8</th>\n",
       "      <th>9</th>\n",
       "      <th>...</th>\n",
       "      <th>12</th>\n",
       "      <th>13</th>\n",
       "      <th>14</th>\n",
       "      <th>15</th>\n",
       "      <th>16</th>\n",
       "      <th>17</th>\n",
       "      <th>18</th>\n",
       "      <th>19</th>\n",
       "      <th>20</th>\n",
       "      <th>21</th>\n",
       "    </tr>\n",
       "  </thead>\n",
       "  <tbody>\n",
       "    <tr>\n",
       "      <th>Letter</th>\n",
       "      <td>c</td>\n",
       "      <td>v</td>\n",
       "      <td>i</td>\n",
       "      <td>w</td>\n",
       "      <td>l</td>\n",
       "      <td>a</td>\n",
       "      <td>z</td>\n",
       "      <td>p</td>\n",
       "      <td>u</td>\n",
       "      <td>m</td>\n",
       "      <td>...</td>\n",
       "      <td>h</td>\n",
       "      <td>o</td>\n",
       "      <td>s</td>\n",
       "      <td>y</td>\n",
       "      <td>n</td>\n",
       "      <td>q</td>\n",
       "      <td>j</td>\n",
       "      <td>g</td>\n",
       "      <td>f</td>\n",
       "      <td>r</td>\n",
       "    </tr>\n",
       "    <tr>\n",
       "      <th>Frecuency</th>\n",
       "      <td>17</td>\n",
       "      <td>12</td>\n",
       "      <td>11</td>\n",
       "      <td>11</td>\n",
       "      <td>11</td>\n",
       "      <td>9</td>\n",
       "      <td>8</td>\n",
       "      <td>6</td>\n",
       "      <td>6</td>\n",
       "      <td>5</td>\n",
       "      <td>...</td>\n",
       "      <td>4</td>\n",
       "      <td>4</td>\n",
       "      <td>3</td>\n",
       "      <td>3</td>\n",
       "      <td>2</td>\n",
       "      <td>2</td>\n",
       "      <td>2</td>\n",
       "      <td>2</td>\n",
       "      <td>2</td>\n",
       "      <td>1</td>\n",
       "    </tr>\n",
       "  </tbody>\n",
       "</table>\n",
       "<p>2 rows × 22 columns</p>\n",
       "</div>"
      ],
      "text/plain": [
       "           0   1   2   3   4  5  6  7  8  9   ... 12 13 14 15 16 17 18 19 20  \\\n",
       "Letter      c   v   i   w   l  a  z  p  u  m  ...  h  o  s  y  n  q  j  g  f   \n",
       "Frecuency  17  12  11  11  11  9  8  6  6  5  ...  4  4  3  3  2  2  2  2  2   \n",
       "\n",
       "          21  \n",
       "Letter     r  \n",
       "Frecuency  1  \n",
       "\n",
       "[2 rows x 22 columns]"
      ]
     },
     "execution_count": 9,
     "metadata": {},
     "output_type": "execute_result"
    }
   ],
   "source": [
    "Text = \"\"\"pcix wvms ivaf cvya epqw vxza npwl lwiv zvco oapl xuiv xzig cyae zaiv colc jcla hcvm\n",
    "lwur livm eimc lcip vwvm wzqi yhcc llwg ciul aofp ascu unez wzwu chhc szwj c\"\"\"\n",
    "\n",
    "cryptogram_data = prepare_cryptogram(Text, True)\n",
    "cryptogram_data[0].transpose().head(2)"
   ]
  },
  {
   "cell_type": "code",
   "execution_count": 10,
   "id": "699bd0b5-1cb6-47f1-bf7d-048065f2ddcf",
   "metadata": {},
   "outputs": [
    {
     "name": "stdout",
     "output_type": "stream",
     "text": [
      "<class 'pandas.core.frame.DataFrame'>\n",
      "RangeIndex: 22 entries, 0 to 21\n",
      "Data columns (total 2 columns):\n",
      " #   Column     Non-Null Count  Dtype \n",
      "---  ------     --------------  ----- \n",
      " 0   Letter     22 non-null     object\n",
      " 1   Frecuency  22 non-null     int64 \n",
      "dtypes: int64(1), object(1)\n",
      "memory usage: 480.0+ bytes\n"
     ]
    }
   ],
   "source": [
    "cryptogram_data[0].info()"
   ]
  },
  {
   "cell_type": "markdown",
   "id": "ef5003ad-26d7-4338-b081-2197a0eb3513",
   "metadata": {},
   "source": [
    "<h3> <font color = #5DADE2><b>Decifrado</b></font></h3>\n",
    "<h4><font color = #F09426> La forma de proceder en este punto es probar todas las formas de asignar los valores mas frecuentes en el criptograma teniedo como referencia el dataframe words_frecuency, generar el sistema de congruencias lineales y finalmente vericar si este posee solución. Por cada asignación cuyo sistema tenga solución, tendremos tantas formas de desencriptar como soluciones encontremos. Así debemos analizar cada mensaje y encontrar el que de como resultado un texto legible.</h4>"
   ]
  },
  {
   "cell_type": "code",
   "execution_count": 11,
   "id": "b420cbb6-98a9-49cb-8d2e-765382151ca3",
   "metadata": {},
   "outputs": [],
   "source": [
    "def higher_frequency_assignations(words_frecuency, cryptogram_data):\n",
    "    \n",
    "    df_cryptogram, cryptogram = cryptogram_data[0], cryptogram_data[1]\n",
    "    \n",
    "    options_decrypt = [] # List to add all ways decrypt the\n",
    "\n",
    "    # --------------------------------------------------------------------------------------------------------------------\n",
    "    # Assign the most frequent values on the crytogram\n",
    "    # --------------------------------------------------------------------------------------------------------------------\n",
    "    C1 = ord(df_cryptogram.iloc[0]['Letter']) - 97 \n",
    "    C2 = ord(df_cryptogram.iloc[1]['Letter']) - 97\n",
    "\n",
    "    fw_size = words_frecuency.shape[0] # Define the length of dataframe  with words list\n",
    "\n",
    "    # --------------------------------------------------------------------------------------------------------------------\n",
    "    # Do the possible assignations of the most frequent values\n",
    "    # --------------------------------------------------------------------------------------------------------------------\n",
    "    for i in range(fw_size - 1):\n",
    "        for j in range(i+1, fw_size):\n",
    "\n",
    "            x1 = ord(words_frecuency.iloc[i]['Letter']) - 97\n",
    "            x2 = ord(words_frecuency.iloc[j]['Letter']) - 97\n",
    "\n",
    "            solutions = linear_congruences(x1 = x1, C1 = C1, x2 = x2 , C2 = C2, m = 26) # Verify if is possible the assignation \n",
    "\n",
    "            if len(solutions) != 0:\n",
    "                for s in solutions: # Use the solutions to decrypt the mesagge\n",
    "                    m = decrypt_affine_transformation(a = s[0], b = s[1], m = 26, encrypt_text = cryptogram)\n",
    "                    options_decrypt.append(m) # Save the result\n",
    "    return(options_decrypt) "
   ]
  },
  {
   "cell_type": "code",
   "execution_count": 12,
   "id": "03f1f6f1-be6b-43ec-a602-31e62726dddc",
   "metadata": {},
   "outputs": [],
   "source": [
    "options_decrypt = higher_frequency_assignations(words_frecuency, cryptogram_data)"
   ]
  },
  {
   "cell_type": "markdown",
   "id": "aadaccbd-f84b-420d-9106-a7e63ad3c8ae",
   "metadata": {},
   "source": [
    "<h4><font color = #F09426>Dada la cantidad de opciones, mostraremos en pantalla solo las primeras $10$. </font></h4>"
   ]
  },
  {
   "cell_type": "code",
   "execution_count": 13,
   "id": "4c261991-d352-4df1-bfe9-54c85fb17b1a",
   "metadata": {},
   "outputs": [
    {
     "name": "stdout",
     "output_type": "stream",
     "text": [
      "\u001b[34m -------------------------------------------\n",
      "  Option 1\n",
      "\u001b[34m ------------------------------------------- \u001b[0m\n",
      "\t readingcanopenyourmindtobrilliantnewworldsandtakeyoutoanewlevelofenglishlanguagelearningitmayfeellikeaslowprocessbutitiseffective\n",
      "\u001b[34m -------------------------------------------\n",
      "  Option 2\n",
      "\u001b[34m ------------------------------------------- \u001b[0m\n",
      "\t reglctqsgtmfetumwractldmzrchhcgtdteiimrhlkgtldgoeumwdmgteihepehmxetqhckjhgtqwgqehegrtctqcdaguxeehhcoegkhmifrmsekkzwdcdckexxesdcpe\n",
      "\u001b[34m -------------------------------------------\n",
      "  Option 3\n",
      "\u001b[34m ------------------------------------------- \u001b[0m\n",
      "\t reyjkluoylgbeligcrqkljhgtrkvvkylhlessgrvjmyljhyaeigchgylesvexevgzeluvkmpvylucyueveyrlklukhqyizeevvkaeymvgsbrgoemmtchkhkmezzeohkxe\n",
      "\u001b[34m -------------------------------------------\n",
      "  Option 4\n",
      "\u001b[34m ------------------------------------------- \u001b[0m\n",
      "\t reqhsdykqdaxedwairgsdhlanrsjjsqdldeccarjhoqdhlqmewailaqdecjefejabedyjsovjqdyiqyejeqrdsdyslgqwbeejjsmeqojacxrakeoonilslsoebbeklsfe\n",
      "\u001b[34m -------------------------------------------\n",
      "  Option 5\n",
      "\u001b[34m ------------------------------------------- \u001b[0m\n",
      "\t recxgpsqcpwdepowmrigpxfwjrgbbgcpfpeaawrbxycpxfcueowmfwcpeabetebwlepsbgyzbcpsmcsebecrpgpsgficoleebbguecybwadrwqeyyjmfgfgyelleqfgte\n",
      "\u001b[34m -------------------------------------------\n",
      "  Option 6\n",
      "\u001b[34m ------------------------------------------- \u001b[0m\n",
      "\t reuvohwmuhqzehcqsryohvjqdroppouhjhekkqrpvauhvjugecqsjquhekpebepqnehwpoafpuhwsuwepeurhohwojyucneeppogeuapqkzrqmeaadsjojoaennemjobe\n",
      "\u001b[34m -------------------------------------------\n",
      "  Option 7\n",
      "\u001b[34m ------------------------------------------- \u001b[0m\n",
      "\t reonubmwobsjebgsqrkubnzsfruttuobzbeyysrtniobnzocegsqzsobeytehetsvebmtuidtobmqometeorbubmuzkogveettuceoitsyjrsweiifqzuzuievvewzuhe\n",
      "\u001b[34m -------------------------------------------\n",
      "  Option 8\n",
      "\u001b[34m ------------------------------------------- \u001b[0m\n",
      "\t resbqfkysfilefmiarcqfbxivrqzzqsfxfeggirzbusfbxswemiaxisfegzedezihefkzqunzsfkaskezesrfqfkqxcsmheezzqwesuziglriyeuuvaxqxquehheyxqde\n",
      "\u001b[34m -------------------------------------------\n",
      "  Option 9\n",
      "\u001b[34m ------------------------------------------- \u001b[0m\n",
      "\t reifavcgivutevkuorwavfpuhraxxaivpvemmurxfqivfpiyekuopuivemxenexudevcxaqbxivcoicexeirvavcapwikdeexxayeiqxumtrugeqqhopapaqeddegpane\n",
      "\u001b[34m -------------------------------------------\n",
      "  Option 10\n",
      "\u001b[34m ------------------------------------------- \u001b[0m\n",
      "\t remtwzaimzkvezqkyrowztnkxrwddwmznzeuukrdtcmztnmseqkynkmzeudejedkpezadwcldmzaymaedemrzwzawnomqpeeddwsemcdkuvrkieccxynwnwceppeinwje\n",
      "\n",
      "Total options:  156\n"
     ]
    }
   ],
   "source": [
    "cont = 1\n",
    "for x in options_decrypt:\n",
    "    print(Fore.BLUE, '-------------------------------------------')\n",
    "    print(f'  Option {cont}') \n",
    "    print(Fore.BLUE, '-------------------------------------------', Style.RESET_ALL)\n",
    "    print('\\t',x)\n",
    "    cont += 1\n",
    "    if cont == 11:\n",
    "          break\n",
    "print('\\nTotal options: ', len(options_decrypt))"
   ]
  },
  {
   "cell_type": "markdown",
   "id": "c465e6c1-848b-4491-8749-be9856a30c82",
   "metadata": {},
   "source": [
    "<h4><font color = #F09426> Se puede observar que la opción $1$ presenta un texto legible. Sin embargo con las herramientas que tenemos hasta ahora, hay un sistema ineficiente a la hora de detectar el texto correcto, ya que tenemos un total de 156 opciones que deberiamos analizar manualmente para poder encontrar el texto correcto. </font></h4>\n",
    "<h4><font color =#F09426>\n",
    "Vamos a fijar nuestro objetivo ahora en corregir este aspectos del programa, de tal forma que el sistema reconozca cual de sus opciones es la correcta y pueda agregar de los espacios correspondientes para recuperar el mensaje original con mayor efectividad. </font></h4>\n",
    "\n",
    "<h4><font color =#F09426>\n",
    "Será necesario para el sistema acceder de manera constante a la información de los datadrame con la lista de la palabras; por lo cual importaremos cada uno de ellos para mejorar el procesamiento de la información.</font></h4>"
   ]
  },
  {
   "cell_type": "code",
   "execution_count": 14,
   "id": "e67b124c-cca9-4b5f-abca-1a417d11ea2a",
   "metadata": {},
   "outputs": [],
   "source": [
    "dfs = {}\n",
    "\n",
    "for x in range(97, 123):\n",
    "    Key = True\n",
    "    L = chr(x)\n",
    "    url = f'https://github.com/ivanc998/IN-Portfolio/blob/main/Project-Decrypt/csv-files/{L.upper()}_words.csv?raw=true'\n",
    "    \n",
    "    while Key:\n",
    "        try:\n",
    "            dfs[L] = pd.read_csv(url, index_col = 0)\n",
    "            Key = False\n",
    "        except Exception as e:\n",
    "            if not (type(e) is urllib.error.URLError):\n",
    "                print(e)\n",
    "                break"
   ]
  },
  {
   "cell_type": "markdown",
   "id": "bf7c0833-14cc-4bba-a577-a2bad6fbf09b",
   "metadata": {},
   "source": [
    "<h4><font color =#F09426>\n",
    "Ahora definimos una función que dado un texto pueda recorrerlo y detectar las palabras que en el se encuentran; finalmente retornará un porcentaje del texto reconocido junto con los espacios en las palabras encontradas.\n",
    "</font></h4>"
   ]
  },
  {
   "cell_type": "code",
   "execution_count": 57,
   "id": "b081644f-877b-4a0c-b15d-2960a9c82821",
   "metadata": {},
   "outputs": [],
   "source": [
    "def percent_real_text(Text, df):\n",
    "    \n",
    "    # This function recibes as patameters a text and a dictionary with all the words on the language\n",
    "    # Returns a list with the percent recognized and the text adding some tabs with the word found\n",
    "    \n",
    "    if type(Text) is str: # Only will be accepted the objects of type str\n",
    "        \n",
    "        Text = Text.replace(' ','').lower() # Drop the tabs and use only lowercase letters\n",
    "        tabular_text = '' # Create a empty word to save the words found\n",
    "        \n",
    "        skips = 0 # Define a variable to count all letters no recognized \n",
    "        index = 0 # Define an index to search on the given text\n",
    "        \n",
    "        while index < len(Text): # Do the process only with the index be less than the length\n",
    "            \n",
    "            if 97 <= ord(Text[index]) and ord(Text[index]) <= 122: # Search words justo with the letters on the alphabet\n",
    "                \n",
    "                # --------------------------------------------------------------------------------------\n",
    "                # Prepare the wodos beggining with the current letter and their leghts \n",
    "                # --------------------------------------------------------------------------------------\n",
    "                Ls = df[Text[index]]['Length'].groupby(df[Text[index]]['Length']).count().sort_values(ascending = False).index.tolist()\n",
    "                Lst = [int(x) for x in Ls if x <= len(Text) - index] # List with all lenghts to search\n",
    "                \n",
    "                try: # When we filter the list might be empty, in this case we skip the remaining text\n",
    "                    \n",
    "                    # Define the last and the min leghts to search \n",
    "                    last_length = Lst[-1] \n",
    "                    min_length = min(Lst)\n",
    "                    \n",
    "                except:\n",
    "                    min_length = 2*(len(Text) - index) # This is not the minimun but we define so, to use the conditional block of remaining text\n",
    "                    \n",
    "                if len(Text) - index < min_length: # Verify if the remaining text can be a word\n",
    "                    \n",
    "                    tabular_text += ('{F_R}' + Text[index:] + '{S}') # In this case the reaining text could not be found, so it is marked as unrecognized\n",
    "                    \n",
    "                    ## Calculate the new index and update the skip letters\n",
    "                    skips += (len(Text) - index)\n",
    "                    index = len(Text)\n",
    "                \n",
    "                for j in Lst: # Search wors with all possible lenghts\n",
    "                    if index + j - 1 < len(Text): \n",
    "                        \n",
    "                        aux_text = Text[index : (index + j)]\n",
    "                    \n",
    "                        if(aux_text in df[Text[index]].values): # Define a fragment to the text and verify if it is a word on the dictionary \n",
    "                            \n",
    "                            index += j # If find the word, locate the next index to search and save the word found adding a tab\n",
    "                            tabular_text +=  ('{F_G}' + aux_text + '{S} ')\n",
    "                            break\n",
    "                            \n",
    "                        else:\n",
    "                            if j == last_length: # If it doesn't find the word, verify if it was the last leght\n",
    "                                \n",
    "                                tabular_text += ('{F_R}' + Text[index] + '{S}') # Mark the character as a unrecognized word \n",
    "                                \n",
    "                                # Calculate the new index and update the skip letters\n",
    "                                skips += 1\n",
    "                                index += 1\n",
    "                                \n",
    "            else: # If the character is not a letter, it is marked as a unrecognized \n",
    "                \n",
    "                tabular_text += ('{F_R}'+ Text[index] + '{S}')\n",
    "                \n",
    "                # Calculate the new index and update the skip letters\n",
    "                skips +=1\n",
    "                index += 1\n",
    "                \n",
    "        percent = (1 - (skips/len(Text)))*100 # Calculate the percent \n",
    "        final_list =  [percent , tabular_text] # Define the list to return \n",
    "        \n",
    "        return  final_list\n",
    "                \n",
    "    else:\n",
    "        raise TypeError('Text was expected being a str object')"
   ]
  },
  {
   "cell_type": "code",
   "execution_count": 148,
   "id": "44056301-4dcb-45a0-83db-c42631a8addf",
   "metadata": {},
   "outputs": [],
   "source": [
    "def style_text(Text, action = 'print', eval_real_percent = True):\n",
    "    \n",
    "    # Recibes as parameters three values. \n",
    "    # A text to process\n",
    "    # A str which could be 'print' or 'return' to indicate tha way to proceed with result. Default 'print'\n",
    "    # A boolean value which indicate whether the system have to process the text with percent_real_text or not. Default True \n",
    "    \n",
    "    if eval_real_percent: # Process the text if the user did not change the value eval_real_percent\n",
    "        Text = percent_real_text(Text, dfs)[1]\n",
    "        \n",
    "    # Give the style to the given text\n",
    "    style_dict = {'F_R' : Fore.RED , 'S' : Style.RESET_ALL , 'F_G' : Fore.GREEN} # Red -> unrecognized, blue -> recignized\n",
    "    Text = Text.format(**style_dict)\n",
    "    \n",
    "    if action == 'print': # Execute the options choosen \n",
    "        print(Text) \n",
    "    elif action == 'return':\n",
    "        return Text\n",
    "    else: \n",
    "        raise Exception(\"action was expeted being 'return' or 'print'\")"
   ]
  },
  {
   "cell_type": "markdown",
   "id": "a0f4c1e2-eb78-4da2-a9c8-1134f0d4fccd",
   "metadata": {},
   "source": [
    "<h4><font color =#F09426>Las funciones definidas, deben ser utilizadas en conjunto para presentar al usuario los resultados de una forma más agradable. Nuestro siguiente paso será establecer la efectividad de reconocimiento que posee nuestro código.</font></h4>"
   ]
  },
  {
   "cell_type": "markdown",
   "id": "072f6689-8521-4a6f-9fad-8227ab132368",
   "metadata": {},
   "source": [
    "<h3> <font color = #5DADE2><b>Casos de prueba</b></font></h3>\n",
    "<h4><font color = #F09426> Usaremos el siguiente dataframe para probar la efectividad de nuestro código. </font></h4>"
   ]
  },
  {
   "cell_type": "markdown",
   "id": "be56ae73-f87b-425d-8f6c-57763f053ea5",
   "metadata": {},
   "source": [
    "<h4><font color = #F09426>Aquí contamos con cuatro campos. El primero, consta de fragmetos obtenidos de la siguiente <a href = \"https://homepage.cs.uri.edu/faculty/wolfe/book/Readings/Reading13.htm\"> página</a> haciendo uso de web scraping, el segundo y tercero decodifican los textos del primer campo haciendo uso de transformación afín e intercambio aleatorio de letras respectivamente. Finalmente, el último campo fue generado por el sistema con textos aleatorios.</font></h4>"
   ]
  },
  {
   "cell_type": "code",
   "execution_count": 54,
   "id": "85c42f68-0474-4eed-969f-9ca1428590e3",
   "metadata": {},
   "outputs": [
    {
     "data": {
      "text/html": [
       "<div>\n",
       "<style scoped>\n",
       "    .dataframe tbody tr th:only-of-type {\n",
       "        vertical-align: middle;\n",
       "    }\n",
       "\n",
       "    .dataframe tbody tr th {\n",
       "        vertical-align: top;\n",
       "    }\n",
       "\n",
       "    .dataframe thead th {\n",
       "        text-align: right;\n",
       "    }\n",
       "</style>\n",
       "<table border=\"1\" class=\"dataframe\">\n",
       "  <thead>\n",
       "    <tr style=\"text-align: right;\">\n",
       "      <th></th>\n",
       "      <th>Real text</th>\n",
       "      <th>Affine encrypt</th>\n",
       "      <th>Exchange encrypt</th>\n",
       "      <th>random_text</th>\n",
       "    </tr>\n",
       "  </thead>\n",
       "  <tbody>\n",
       "    <tr>\n",
       "      <th>0</th>\n",
       "      <td>Computer Programming\\n\\n\\n\\nWhy Programming?\\n...</td>\n",
       "      <td>sa qfezcpf pamp iqqwvmo ryf pam piqq wvmyaeqiy...</td>\n",
       "      <td>ip e srwy tstphtoee mfhcaust phto eemfhupr eou...</td>\n",
       "      <td>pbojpibvwbmrvvmiolyckvbojyvqcjmyawarxvvuqgjrss...</td>\n",
       "    </tr>\n",
       "    <tr>\n",
       "      <th>1</th>\n",
       "      <td>Perhaps now you are curious to learn how prog...</td>\n",
       "      <td>fcpr ifuvao yae ipcs epwae uzalcip vr a ofpam ...</td>\n",
       "      <td>sy taosqfp c uproty irtmprqwp jyotfap cstphtoe...</td>\n",
       "      <td>vntdtlgzmtus eezstshzecnctplrhswruicnv ygt tha...</td>\n",
       "    </tr>\n",
       "    <tr>\n",
       "      <th>2</th>\n",
       "      <td>A program is a set of step-by-step instructio...</td>\n",
       "      <td>if pampiqwui uc zahuzcfn yuzcfwvu zpeszw avu z...</td>\n",
       "      <td>os tphtoem qoqywpg qwyszuqwy smfqwtr iwm pfqwa...</td>\n",
       "      <td>tmiho hokqogbulpyktszgijpbffzmsbgulwjoiramnplu...</td>\n",
       "    </tr>\n",
       "    <tr>\n",
       "      <th>3</th>\n",
       "      <td>\\n\\nThere are at least three good reasons for ...</td>\n",
       "      <td>zrcp cip ciz lciuzzr pc cm aaxpciuav uhapl c i...</td>\n",
       "      <td>waytyot yowjyoqw wa tyyhp pvtyoqpfq gptjyotf m...</td>\n",
       "      <td>frtpn  dppbawwrrjyu kuyrwruzjwkaxkgcddfgllodhf...</td>\n",
       "    </tr>\n",
       "    <tr>\n",
       "      <th>4</th>\n",
       "      <td>The computer is only a tool.</td>\n",
       "      <td>zrcs aqf ezcp wuav lyizaal</td>\n",
       "      <td>way ipesrw ytmq p fj uow ppj</td>\n",
       "      <td>mahofhuenyfrd ursndwzxwohdvifkg</td>\n",
       "    </tr>\n",
       "    <tr>\n",
       "      <th>5</th>\n",
       "      <td>If you learn how to write simple programs, yo...</td>\n",
       "      <td>whyaelc ipv r aozao p wz cu wqflcfp ampiquya e...</td>\n",
       "      <td>mguprjy otfapcwpc tmwyqmes jystph toe quprcmjj...</td>\n",
       "      <td>vbaehccyljonujjdjtrawk mzigjyctyegtykftyogcayc...</td>\n",
       "    </tr>\n",
       "  </tbody>\n",
       "</table>\n",
       "</div>"
      ],
      "text/plain": [
       "                                           Real text  \\\n",
       "0  Computer Programming\\n\\n\\n\\nWhy Programming?\\n...   \n",
       "1   Perhaps now you are curious to learn how prog...   \n",
       "2   A program is a set of step-by-step instructio...   \n",
       "3  \\n\\nThere are at least three good reasons for ...   \n",
       "4                       The computer is only a tool.   \n",
       "5   If you learn how to write simple programs, yo...   \n",
       "\n",
       "                                      Affine encrypt  \\\n",
       "0  sa qfezcpf pamp iqqwvmo ryf pam piqq wvmyaeqiy...   \n",
       "1  fcpr ifuvao yae ipcs epwae uzalcip vr a ofpam ...   \n",
       "2  if pampiqwui uc zahuzcfn yuzcfwvu zpeszw avu z...   \n",
       "3  zrcp cip ciz lciuzzr pc cm aaxpciuav uhapl c i...   \n",
       "4                        zrcs aqf ezcp wuav lyizaal    \n",
       "5  whyaelc ipv r aozao p wz cu wqflcfp ampiquya e...   \n",
       "\n",
       "                                    Exchange encrypt  \\\n",
       "0  ip e srwy tstphtoee mfhcaust phto eemfhupr eou...   \n",
       "1  sy taosqfp c uproty irtmprqwp jyotfap cstphtoe...   \n",
       "2  os tphtoem qoqywpg qwyszuqwy smfqwtr iwm pfqwa...   \n",
       "3  waytyot yowjyoqw wa tyyhp pvtyoqpfq gptjyotf m...   \n",
       "4                       way ipesrw ytmq p fj uow ppj   \n",
       "5  mguprjy otfapcwpc tmwyqmes jystph toe quprcmjj...   \n",
       "\n",
       "                                         random_text  \n",
       "0  pbojpibvwbmrvvmiolyckvbojyvqcjmyawarxvvuqgjrss...  \n",
       "1  vntdtlgzmtus eezstshzecnctplrhswruicnv ygt tha...  \n",
       "2  tmiho hokqogbulpyktszgijpbffzmsbgulwjoiramnplu...  \n",
       "3  frtpn  dppbawwrrjyu kuyrwruzjwkaxkgcddfgllodhf...  \n",
       "4                    mahofhuenyfrd ursndwzxwohdvifkg  \n",
       "5  vbaehccyljonujjdjtrawk mzigjyctyegtykftyogcayc...  "
      ]
     },
     "execution_count": 54,
     "metadata": {},
     "output_type": "execute_result"
    }
   ],
   "source": [
    "url = 'https://github.com/ivanc998/IN-Portfolio/blob/main/Project-Decrypt/csv-files/Test_recognize_words.csv?raw=true'\n",
    "df_test = pd.read_csv(url, index_col = 0) \n",
    "df_test.head(6)"
   ]
  },
  {
   "cell_type": "code",
   "execution_count": 55,
   "id": "92af9504-673d-45f6-9fd3-da302461366e",
   "metadata": {},
   "outputs": [
    {
     "name": "stdout",
     "output_type": "stream",
     "text": [
      "<class 'pandas.core.frame.DataFrame'>\n",
      "Int64Index: 313 entries, 0 to 312\n",
      "Data columns (total 4 columns):\n",
      " #   Column            Non-Null Count  Dtype \n",
      "---  ------            --------------  ----- \n",
      " 0   Real text         313 non-null    object\n",
      " 1   Affine encrypt    312 non-null    object\n",
      " 2   Exchange encrypt  312 non-null    object\n",
      " 3   random_text       313 non-null    object\n",
      "dtypes: object(4)\n",
      "memory usage: 12.2+ KB\n"
     ]
    }
   ],
   "source": [
    "df_test.info()"
   ]
  },
  {
   "cell_type": "code",
   "execution_count": 56,
   "id": "e1b1c575-a5d1-477d-86fb-18563d619221",
   "metadata": {},
   "outputs": [
    {
     "name": "stdout",
     "output_type": "stream",
     "text": [
      "<class 'pandas.core.frame.DataFrame'>\n",
      "Int64Index: 312 entries, 0 to 311\n",
      "Data columns (total 4 columns):\n",
      " #   Column            Non-Null Count  Dtype \n",
      "---  ------            --------------  ----- \n",
      " 0   Real text         312 non-null    object\n",
      " 1   Affine encrypt    312 non-null    object\n",
      " 2   Exchange encrypt  312 non-null    object\n",
      " 3   random_text       312 non-null    object\n",
      "dtypes: object(4)\n",
      "memory usage: 12.2+ KB\n"
     ]
    }
   ],
   "source": [
    "df_test.dropna(inplace = True)\n",
    "df_test.drop_duplicates(inplace = True)\n",
    "df_test.info()"
   ]
  },
  {
   "cell_type": "markdown",
   "id": "f5909f91-6598-435b-b39d-d38726cb367e",
   "metadata": {},
   "source": [
    "<h4><font color =#F09426>Ahora creamos los porcentajes para cada texto distinguiendo como categoría el tipo de texto. </font></h4>"
   ]
  },
  {
   "cell_type": "code",
   "execution_count": 64,
   "id": "83a30346-825f-4a15-a258-af29b5ed11ed",
   "metadata": {},
   "outputs": [
    {
     "data": {
      "text/html": [
       "<div>\n",
       "<style scoped>\n",
       "    .dataframe tbody tr th:only-of-type {\n",
       "        vertical-align: middle;\n",
       "    }\n",
       "\n",
       "    .dataframe tbody tr th {\n",
       "        vertical-align: top;\n",
       "    }\n",
       "\n",
       "    .dataframe thead th {\n",
       "        text-align: right;\n",
       "    }\n",
       "</style>\n",
       "<table border=\"1\" class=\"dataframe\">\n",
       "  <thead>\n",
       "    <tr style=\"text-align: right;\">\n",
       "      <th></th>\n",
       "      <th>Text</th>\n",
       "      <th>Percent</th>\n",
       "      <th>Category</th>\n",
       "    </tr>\n",
       "  </thead>\n",
       "  <tbody>\n",
       "    <tr>\n",
       "      <th>0</th>\n",
       "      <td>Computer Programming\\n\\n\\n\\nWhy Programming?\\n...</td>\n",
       "      <td>87.096774</td>\n",
       "      <td>Real text</td>\n",
       "    </tr>\n",
       "    <tr>\n",
       "      <th>1</th>\n",
       "      <td>Perhaps now you are curious to learn how prog...</td>\n",
       "      <td>89.655172</td>\n",
       "      <td>Real text</td>\n",
       "    </tr>\n",
       "    <tr>\n",
       "      <th>2</th>\n",
       "      <td>A program is a set of step-by-step instructio...</td>\n",
       "      <td>82.608696</td>\n",
       "      <td>Real text</td>\n",
       "    </tr>\n",
       "    <tr>\n",
       "      <th>3</th>\n",
       "      <td>\\n\\nThere are at least three good reasons for ...</td>\n",
       "      <td>84.536082</td>\n",
       "      <td>Real text</td>\n",
       "    </tr>\n",
       "    <tr>\n",
       "      <th>4</th>\n",
       "      <td>The computer is only a tool.</td>\n",
       "      <td>91.304348</td>\n",
       "      <td>Real text</td>\n",
       "    </tr>\n",
       "  </tbody>\n",
       "</table>\n",
       "</div>"
      ],
      "text/plain": [
       "                                                Text    Percent   Category\n",
       "0  Computer Programming\\n\\n\\n\\nWhy Programming?\\n...  87.096774  Real text\n",
       "1   Perhaps now you are curious to learn how prog...  89.655172  Real text\n",
       "2   A program is a set of step-by-step instructio...  82.608696  Real text\n",
       "3  \\n\\nThere are at least three good reasons for ...  84.536082  Real text\n",
       "4                       The computer is only a tool.  91.304348  Real text"
      ]
     },
     "execution_count": 64,
     "metadata": {},
     "output_type": "execute_result"
    }
   ],
   "source": [
    "# -----------------------------------------------------------------------\n",
    "# Aply the funcyion percent_real_text to the texts on the dataframe\n",
    "# --------------------------------------------------------------------\n",
    "\n",
    "# Real text\n",
    "\n",
    "real_texts = df_test['Real text']\n",
    "P_real_field = [percent_real_text(T, dfs)[0] for T in real_texts]\n",
    "cat_RT = ['Real text']*len(P_real_field)\n",
    "\n",
    "# Text with affine encrypt\n",
    "affine_texts  = df_test['Affine encrypt']\n",
    "P_affine_field = [percent_real_text(T, dfs)[0] for T in affine_texts]\n",
    "cat_AT = ['Affine text']*len(P_affine_field)\n",
    "\n",
    "# Text with exchage of letters\n",
    "exchange_texts = df_test['Exchange encrypt']\n",
    "P_exchange_field = [percent_real_text(T, dfs)[0] for T in exchange_texts]\n",
    "cat_ET = ['Exchange text']*len(P_exchange_field)\n",
    "\n",
    "# Random texts\n",
    "random_texts = df_test['random_text']\n",
    "P_random_field = [percent_real_text(T, dfs)[0] for T in random_texts]\n",
    "cat_RDT = ['Random text']* len(P_random_field)\n",
    "\n",
    "Texts = list(df_test['Real text']) + list(df_test['Affine encrypt']) + list(df_test['Exchange encrypt']) + list(df_test['random_text'])\n",
    "Percent = P_real_field + P_affine_field + P_exchange_field + P_random_field\n",
    "Category = cat_RT + cat_AT + cat_ET + cat_RDT\n",
    "len_text = [len(x) for x in Texts]\n",
    "\n",
    "df_results = pd.DataFrame({'Text' : Texts, 'Percent' : Percent, 'Category' : Category, 'Length' : len_text}) # Define the dataframe \n",
    "df_results.head(5)"
   ]
  },
  {
   "cell_type": "code",
   "execution_count": 154,
   "id": "9af1e819-4088-4b4e-b331-6d6705522526",
   "metadata": {},
   "outputs": [],
   "source": [
    "df_results['Length'] = [len(x) for x in Texts]"
   ]
  },
  {
   "cell_type": "code",
   "execution_count": 158,
   "id": "38e3249f-5e70-41e8-a0ad-0da343912ace",
   "metadata": {},
   "outputs": [
    {
     "data": {
      "text/html": [
       "<div>\n",
       "<style scoped>\n",
       "    .dataframe tbody tr th:only-of-type {\n",
       "        vertical-align: middle;\n",
       "    }\n",
       "\n",
       "    .dataframe tbody tr th {\n",
       "        vertical-align: top;\n",
       "    }\n",
       "\n",
       "    .dataframe thead th {\n",
       "        text-align: right;\n",
       "    }\n",
       "</style>\n",
       "<table border=\"1\" class=\"dataframe\">\n",
       "  <thead>\n",
       "    <tr style=\"text-align: right;\">\n",
       "      <th></th>\n",
       "      <th>Percent</th>\n",
       "      <th>Length</th>\n",
       "    </tr>\n",
       "  </thead>\n",
       "  <tbody>\n",
       "    <tr>\n",
       "      <th>count</th>\n",
       "      <td>1248.000000</td>\n",
       "      <td>1248.000000</td>\n",
       "    </tr>\n",
       "    <tr>\n",
       "      <th>mean</th>\n",
       "      <td>45.872898</td>\n",
       "      <td>116.796474</td>\n",
       "    </tr>\n",
       "    <tr>\n",
       "      <th>std</th>\n",
       "      <td>26.951141</td>\n",
       "      <td>53.902138</td>\n",
       "    </tr>\n",
       "    <tr>\n",
       "      <th>min</th>\n",
       "      <td>0.000000</td>\n",
       "      <td>4.000000</td>\n",
       "    </tr>\n",
       "    <tr>\n",
       "      <th>25%</th>\n",
       "      <td>27.184466</td>\n",
       "      <td>79.750000</td>\n",
       "    </tr>\n",
       "    <tr>\n",
       "      <th>50%</th>\n",
       "      <td>34.764186</td>\n",
       "      <td>108.500000</td>\n",
       "    </tr>\n",
       "    <tr>\n",
       "      <th>75%</th>\n",
       "      <td>56.942905</td>\n",
       "      <td>149.000000</td>\n",
       "    </tr>\n",
       "    <tr>\n",
       "      <th>max</th>\n",
       "      <td>98.901099</td>\n",
       "      <td>385.000000</td>\n",
       "    </tr>\n",
       "  </tbody>\n",
       "</table>\n",
       "</div>"
      ],
      "text/plain": [
       "           Percent       Length\n",
       "count  1248.000000  1248.000000\n",
       "mean     45.872898   116.796474\n",
       "std      26.951141    53.902138\n",
       "min       0.000000     4.000000\n",
       "25%      27.184466    79.750000\n",
       "50%      34.764186   108.500000\n",
       "75%      56.942905   149.000000\n",
       "max      98.901099   385.000000"
      ]
     },
     "execution_count": 158,
     "metadata": {},
     "output_type": "execute_result"
    }
   ],
   "source": [
    "df_results.describe()"
   ]
  },
  {
   "cell_type": "code",
   "execution_count": 166,
   "id": "33e66ab5-cf97-4471-8c48-9420dd8a9c07",
   "metadata": {},
   "outputs": [
    {
     "data": {
      "text/html": [
       "<div>\n",
       "<style scoped>\n",
       "    .dataframe tbody tr th:only-of-type {\n",
       "        vertical-align: middle;\n",
       "    }\n",
       "\n",
       "    .dataframe tbody tr th {\n",
       "        vertical-align: top;\n",
       "    }\n",
       "\n",
       "    .dataframe thead th {\n",
       "        text-align: right;\n",
       "    }\n",
       "</style>\n",
       "<table border=\"1\" class=\"dataframe\">\n",
       "  <thead>\n",
       "    <tr style=\"text-align: right;\">\n",
       "      <th></th>\n",
       "      <th>Text</th>\n",
       "      <th>Percent</th>\n",
       "      <th>Category</th>\n",
       "      <th>Length</th>\n",
       "      <th>Range lengths</th>\n",
       "    </tr>\n",
       "  </thead>\n",
       "  <tbody>\n",
       "    <tr>\n",
       "      <th>0</th>\n",
       "      <td>Computer Programming\\n\\n\\n\\nWhy Programming?\\n...</td>\n",
       "      <td>87.096774</td>\n",
       "      <td>Real text</td>\n",
       "      <td>140</td>\n",
       "      <td>Range 4</td>\n",
       "    </tr>\n",
       "    <tr>\n",
       "      <th>1</th>\n",
       "      <td>Perhaps now you are curious to learn how prog...</td>\n",
       "      <td>89.655172</td>\n",
       "      <td>Real text</td>\n",
       "      <td>69</td>\n",
       "      <td>Range 2</td>\n",
       "    </tr>\n",
       "    <tr>\n",
       "      <th>2</th>\n",
       "      <td>A program is a set of step-by-step instructio...</td>\n",
       "      <td>82.608696</td>\n",
       "      <td>Real text</td>\n",
       "      <td>142</td>\n",
       "      <td>Range 4</td>\n",
       "    </tr>\n",
       "    <tr>\n",
       "      <th>3</th>\n",
       "      <td>\\n\\nThere are at least three good reasons for ...</td>\n",
       "      <td>84.536082</td>\n",
       "      <td>Real text</td>\n",
       "      <td>110</td>\n",
       "      <td>Range 3</td>\n",
       "    </tr>\n",
       "    <tr>\n",
       "      <th>4</th>\n",
       "      <td>The computer is only a tool.</td>\n",
       "      <td>91.304348</td>\n",
       "      <td>Real text</td>\n",
       "      <td>29</td>\n",
       "      <td>Range 1</td>\n",
       "    </tr>\n",
       "    <tr>\n",
       "      <th>...</th>\n",
       "      <td>...</td>\n",
       "      <td>...</td>\n",
       "      <td>...</td>\n",
       "      <td>...</td>\n",
       "      <td>...</td>\n",
       "    </tr>\n",
       "    <tr>\n",
       "      <th>1243</th>\n",
       "      <td>zjtvyzyfclfdt gbvrmhepsdwqaknoeltabogw mxrgazh...</td>\n",
       "      <td>36.893204</td>\n",
       "      <td>Random text</td>\n",
       "      <td>105</td>\n",
       "      <td>Range 3</td>\n",
       "    </tr>\n",
       "    <tr>\n",
       "      <th>1244</th>\n",
       "      <td>yzx vxbgjcyepskqgtbjuexqpy fkjkmwqrdduohchexdj...</td>\n",
       "      <td>22.641509</td>\n",
       "      <td>Random text</td>\n",
       "      <td>169</td>\n",
       "      <td>Range 5</td>\n",
       "    </tr>\n",
       "    <tr>\n",
       "      <th>1245</th>\n",
       "      <td>sqeje hfmyh bqdbncztcxgbiyuzdlmenucsdfmlw omlk...</td>\n",
       "      <td>32.608696</td>\n",
       "      <td>Random text</td>\n",
       "      <td>143</td>\n",
       "      <td>Range 4</td>\n",
       "    </tr>\n",
       "    <tr>\n",
       "      <th>1246</th>\n",
       "      <td>xcnp lijcd fzallm infnbskovjpmddxxm lyuhupumsr...</td>\n",
       "      <td>23.214286</td>\n",
       "      <td>Random text</td>\n",
       "      <td>60</td>\n",
       "      <td>Range 2</td>\n",
       "    </tr>\n",
       "    <tr>\n",
       "      <th>1247</th>\n",
       "      <td>cljerxvtro olythvflpqyx nwaayhoyrpncrbituidtcg...</td>\n",
       "      <td>31.282051</td>\n",
       "      <td>Random text</td>\n",
       "      <td>199</td>\n",
       "      <td>Range 6</td>\n",
       "    </tr>\n",
       "  </tbody>\n",
       "</table>\n",
       "<p>1248 rows × 5 columns</p>\n",
       "</div>"
      ],
      "text/plain": [
       "                                                   Text    Percent  \\\n",
       "0     Computer Programming\\n\\n\\n\\nWhy Programming?\\n...  87.096774   \n",
       "1      Perhaps now you are curious to learn how prog...  89.655172   \n",
       "2      A program is a set of step-by-step instructio...  82.608696   \n",
       "3     \\n\\nThere are at least three good reasons for ...  84.536082   \n",
       "4                          The computer is only a tool.  91.304348   \n",
       "...                                                 ...        ...   \n",
       "1243  zjtvyzyfclfdt gbvrmhepsdwqaknoeltabogw mxrgazh...  36.893204   \n",
       "1244  yzx vxbgjcyepskqgtbjuexqpy fkjkmwqrdduohchexdj...  22.641509   \n",
       "1245  sqeje hfmyh bqdbncztcxgbiyuzdlmenucsdfmlw omlk...  32.608696   \n",
       "1246  xcnp lijcd fzallm infnbskovjpmddxxm lyuhupumsr...  23.214286   \n",
       "1247  cljerxvtro olythvflpqyx nwaayhoyrpncrbituidtcg...  31.282051   \n",
       "\n",
       "         Category  Length Range lengths   \n",
       "0       Real text     140        Range 4  \n",
       "1       Real text      69        Range 2  \n",
       "2       Real text     142        Range 4  \n",
       "3       Real text     110        Range 3  \n",
       "4       Real text      29        Range 1  \n",
       "...           ...     ...            ...  \n",
       "1243  Random text     105        Range 3  \n",
       "1244  Random text     169        Range 5  \n",
       "1245  Random text     143        Range 4  \n",
       "1246  Random text      60        Range 2  \n",
       "1247  Random text     199        Range 6  \n",
       "\n",
       "[1248 rows x 5 columns]"
      ]
     },
     "execution_count": 166,
     "metadata": {},
     "output_type": "execute_result"
    }
   ],
   "source": [
    "a, b = 4, 385\n",
    "dx = (b-a)/10\n",
    "ranges = [a + (i * dx) for i in range(11)]\n",
    "labels = ['Range ' + str(i) for i in range(1, 11)]\n",
    "df_results['Range lengths '] = pd.cut(df_results['Length'], ranges, labels = labels)\n",
    "df_results"
   ]
  },
  {
   "cell_type": "code",
   "execution_count": 171,
   "id": "2a0f0f77-4c65-4bee-a2f5-ac38e75dde6e",
   "metadata": {},
   "outputs": [
    {
     "data": {
      "image/png": "[encoded data removed]",
      "text/plain": [
       "<Figure size 640x480 with 1 Axes>"
      ]
     },
     "metadata": {},
     "output_type": "display_data"
    }
   ],
   "source": [
    "plt.pie(x = df_results['Range lengths '].groupby(df_results['Range lengths ']).count())\n",
    "plt.show()"
   ]
  },
  {
   "cell_type": "code",
   "execution_count": 153,
   "id": "79c8ecfa-8133-4fb1-b269-72a1f131fe70",
   "metadata": {},
   "outputs": [
    {
     "data": {
      "image/png": "[encoded data removed]",
      "text/plain": [
       "<Figure size 640x480 with 1 Axes>"
      ]
     },
     "metadata": {},
     "output_type": "display_data"
    }
   ],
   "source": [
    "fig, ax = plt.subplots()\n",
    "\n",
    "palette = sns.color_palette(\"winter\", n_colors = 4, desat = 0.7)\n",
    "sns.boxplot(data = df_results, x = 'Percent', y = 'Category', ax = ax, orient = 'h', palette = palette)\n",
    "\n",
    "ax.yaxis.grid(False) # Show the horizontal gridlines\n",
    "ax.xaxis.grid(True) # Show the vertical gridlines\n",
    "\n",
    "plt.show()"
   ]
  },
  {
   "cell_type": "markdown",
   "id": "95ec7239-cd35-4ca5-a345-944765a792bd",
   "metadata": {},
   "source": [
    "<h4><font color =#F09426>Con esto podemos ver que sin contar los datos atipicos, los textos falsos se mantienen en un rango aproximado de $10\\%-60\\%$, mientras que los textos reales están en $80\\%-100\\%$; lo que es un excelente indicador de que en terminos generales podremos distinguir diferentes opciones al desencriptar textos. Sin embargo, debemos observar de manera atenta los textos reales que se les fue asignado un porcentaje por debajo del $60\\%$. Filtraremos el dataframe para verlos de manera explicita.</font></h4>"
   ]
  },
  {
   "cell_type": "code",
   "execution_count": 144,
   "id": "124e6e1b-b0ee-4bae-90ea-bff66263901e",
   "metadata": {},
   "outputs": [
    {
     "data": {
      "text/html": [
       "<div>\n",
       "<style scoped>\n",
       "    .dataframe tbody tr th:only-of-type {\n",
       "        vertical-align: middle;\n",
       "    }\n",
       "\n",
       "    .dataframe tbody tr th {\n",
       "        vertical-align: top;\n",
       "    }\n",
       "\n",
       "    .dataframe thead th {\n",
       "        text-align: right;\n",
       "    }\n",
       "</style>\n",
       "<table border=\"1\" class=\"dataframe\">\n",
       "  <thead>\n",
       "    <tr style=\"text-align: right;\">\n",
       "      <th></th>\n",
       "      <th>Text</th>\n",
       "      <th>Percent</th>\n",
       "      <th>Category</th>\n",
       "    </tr>\n",
       "  </thead>\n",
       "  <tbody>\n",
       "    <tr>\n",
       "      <th>78</th>\n",
       "      <td>\\n\\n\\nDebugging.</td>\n",
       "      <td>53.846154</td>\n",
       "      <td>Real text</td>\n",
       "    </tr>\n",
       "    <tr>\n",
       "      <th>108</th>\n",
       "      <td>or an M.</td>\n",
       "      <td>50.000000</td>\n",
       "      <td>Real text</td>\n",
       "    </tr>\n",
       "    <tr>\n",
       "      <th>109</th>\n",
       "      <td>in computer science).</td>\n",
       "      <td>57.894737</td>\n",
       "      <td>Real text</td>\n",
       "    </tr>\n",
       "    <tr>\n",
       "      <th>247</th>\n",
       "      <td>\\n\\nThe U.</td>\n",
       "      <td>42.857143</td>\n",
       "      <td>Real text</td>\n",
       "    </tr>\n",
       "    <tr>\n",
       "      <th>289</th>\n",
       "      <td>In 1974 the U.</td>\n",
       "      <td>45.454545</td>\n",
       "      <td>Real text</td>\n",
       "    </tr>\n",
       "  </tbody>\n",
       "</table>\n",
       "</div>"
      ],
      "text/plain": [
       "                       Text    Percent   Category\n",
       "78         \\n\\n\\nDebugging.  53.846154  Real text\n",
       "108                or an M.  50.000000  Real text\n",
       "109   in computer science).  57.894737  Real text\n",
       "247              \\n\\nThe U.  42.857143  Real text\n",
       "289          In 1974 the U.  45.454545  Real text"
      ]
     },
     "execution_count": 144,
     "metadata": {},
     "output_type": "execute_result"
    }
   ],
   "source": [
    "df_outliers = df_results[(df_results['Category'] == 'Real text') & ( df_results['Percent'] < 60)]\n",
    "df_outliers"
   ]
  },
  {
   "cell_type": "markdown",
   "id": "319d643f-59a4-45d4-981e-6f98dc315c3d",
   "metadata": {},
   "source": [
    "<h4><font color =#F09426>Los textos que no lograron ser reconocidos no posen una longitud demasiado amplia. Apliquemos la función de estilo para visualizarlos mejor. </font></h4>"
   ]
  },
  {
   "cell_type": "code",
   "execution_count": 149,
   "id": "35c8122b-6659-44be-8b0e-f1a85556f892",
   "metadata": {},
   "outputs": [
    {
     "name": "stdout",
     "output_type": "stream",
     "text": [
      "---------------------------------\n",
      "\n",
      "\u001b[31m\n",
      "\u001b[0m\u001b[31m\n",
      "\u001b[0m\u001b[31m\n",
      "\u001b[0m\u001b[31md\u001b[0m\u001b[31me\u001b[0m\u001b[32mbug\u001b[0m \u001b[32mging\u001b[0m \u001b[31m.\u001b[0m\n",
      "---------------------------------\n",
      "\n",
      "\u001b[32mora\u001b[0m \u001b[31mn\u001b[0m\u001b[31mm\u001b[0m\u001b[31m.\u001b[0m\n",
      "---------------------------------\n",
      "\n",
      "\u001b[32minc\u001b[0m \u001b[31mo\u001b[0m\u001b[31mm\u001b[0m\u001b[32mput\u001b[0m \u001b[32mers\u001b[0m \u001b[31mc\u001b[0m\u001b[31mi\u001b[0m\u001b[32men\u001b[0m \u001b[31mc\u001b[0m\u001b[31me\u001b[0m\u001b[31m)\u001b[0m\u001b[31m.\u001b[0m\n",
      "---------------------------------\n",
      "\n",
      "\u001b[31m\n",
      "\u001b[0m\u001b[31m\n",
      "\u001b[0m\u001b[32mthe\u001b[0m \u001b[31mu\u001b[0m\u001b[31m.\u001b[0m\n",
      "---------------------------------\n",
      "\n",
      "\u001b[32min\u001b[0m \u001b[31m1\u001b[0m\u001b[31m9\u001b[0m\u001b[31m7\u001b[0m\u001b[31m4\u001b[0m\u001b[32mthe\u001b[0m \u001b[31mu\u001b[0m\u001b[31m.\u001b[0m\n"
     ]
    }
   ],
   "source": [
    "for i in df_outliers.Text:\n",
    "    print('---------------------------------\\n')\n",
    "    style_text(i)"
   ]
  },
  {
   "cell_type": "markdown",
   "id": "cda35939-a02f-4bb9-8b4c-c9b647f9a08c",
   "metadata": {},
   "source": [
    "<h4><font color =#F09426>Podemos inferir los aspectos en los cuales podemos hacer ciertas mejoras para una mayor efectividad. En todos los casos se presenta el inconveniente del salto de lineas, ya que el sistema no está preparado para procesar caractéres especiales como lo es el caso del '\\' o inclusive los números, de aquí tambien vemos el inconveniente de que el sistema calcula el porcentaje sobre todos los elementos del texto, lo que reduce drasticamente su reconociblilidad. Finalmente un aspecto que se podría considerar es que en varias ocaciones palabras completas como 'science' no son encontradas porque anteriormente se reconocio una palabra con letras que no correspondían. Una manera de tratar está anomalía es permitir que el sistema escoja las palabras de acuerdo a la que deje menor cantidad de omisiones posibles.</font></h4>"
   ]
  },
  {
   "cell_type": "markdown",
   "id": "50394117-0c99-4fb8-907b-7e0cd25f0e16",
   "metadata": {},
   "source": [
    "<h4><font color =#F09426>Observemos ahora el caso de los textos falsos reconocidos con un rango mayor al $60\\%$.</font></h4>"
   ]
  },
  {
   "cell_type": "code",
   "execution_count": 150,
   "id": "66d0bc45-b5f3-4869-bee4-50366cf81749",
   "metadata": {},
   "outputs": [
    {
     "data": {
      "text/html": [
       "<div>\n",
       "<style scoped>\n",
       "    .dataframe tbody tr th:only-of-type {\n",
       "        vertical-align: middle;\n",
       "    }\n",
       "\n",
       "    .dataframe tbody tr th {\n",
       "        vertical-align: top;\n",
       "    }\n",
       "\n",
       "    .dataframe thead th {\n",
       "        text-align: right;\n",
       "    }\n",
       "</style>\n",
       "<table border=\"1\" class=\"dataframe\">\n",
       "  <thead>\n",
       "    <tr style=\"text-align: right;\">\n",
       "      <th></th>\n",
       "      <th>Text</th>\n",
       "      <th>Percent</th>\n",
       "      <th>Category</th>\n",
       "    </tr>\n",
       "  </thead>\n",
       "  <tbody>\n",
       "    <tr>\n",
       "      <th>536</th>\n",
       "      <td>yae owlliluau ccaez fezf paxescx nycisrf pampiq</td>\n",
       "      <td>63.414634</td>\n",
       "      <td>Affine text</td>\n",
       "    </tr>\n",
       "    <tr>\n",
       "      <th>867</th>\n",
       "      <td>w ayr</td>\n",
       "      <td>75.000000</td>\n",
       "      <td>Exchange text</td>\n",
       "    </tr>\n",
       "    <tr>\n",
       "      <th>871</th>\n",
       "      <td>w a yr</td>\n",
       "      <td>75.000000</td>\n",
       "      <td>Exchange text</td>\n",
       "    </tr>\n",
       "  </tbody>\n",
       "</table>\n",
       "</div>"
      ],
      "text/plain": [
       "                                                Text    Percent       Category\n",
       "536  yae owlliluau ccaez fezf paxescx nycisrf pampiq  63.414634    Affine text\n",
       "867                                            w ayr  75.000000  Exchange text\n",
       "871                                           w a yr  75.000000  Exchange text"
      ]
     },
     "execution_count": 150,
     "metadata": {},
     "output_type": "execute_result"
    }
   ],
   "source": [
    "df_outliers = df_results[((df_results['Category'] == 'Affine text') | (df_results['Category'] == 'Exchange text')) & ( df_results['Percent'] > 60)]\n",
    "df_outliers"
   ]
  },
  {
   "cell_type": "code",
   "execution_count": 151,
   "id": "d15f1b91-628d-44c3-9044-9f76aa0ac822",
   "metadata": {},
   "outputs": [
    {
     "name": "stdout",
     "output_type": "stream",
     "text": [
      "---------------------------------\n",
      "\n",
      "\u001b[32mya\u001b[0m \u001b[31me\u001b[0m\u001b[32mowl\u001b[0m \u001b[32mli\u001b[0m \u001b[32mlu\u001b[0m \u001b[31ma\u001b[0m\u001b[31mu\u001b[0m\u001b[31mc\u001b[0m\u001b[31mc\u001b[0m\u001b[32mae\u001b[0m \u001b[31mz\u001b[0m\u001b[32mfez\u001b[0m \u001b[31mf\u001b[0m\u001b[32mpax\u001b[0m \u001b[31me\u001b[0m\u001b[31ms\u001b[0m\u001b[31mc\u001b[0m\u001b[31mx\u001b[0m\u001b[32mny\u001b[0m \u001b[31mc\u001b[0m\u001b[32mis\u001b[0m \u001b[31mr\u001b[0m\u001b[31mf\u001b[0m\u001b[32mpam\u001b[0m \u001b[32mpi\u001b[0m \u001b[31mq\u001b[0m\n",
      "---------------------------------\n",
      "\n",
      "\u001b[32mway\u001b[0m \u001b[31mr\u001b[0m\n",
      "---------------------------------\n",
      "\n",
      "\u001b[32mway\u001b[0m \u001b[31mr\u001b[0m\n"
     ]
    }
   ],
   "source": [
    "for i in df_outliers.Text:\n",
    "    print('---------------------------------\\n')\n",
    "    style_text(i)"
   ]
  },
  {
   "cell_type": "markdown",
   "id": "8c94d0a3-70c9-4a4d-acee-0d3b375065ff",
   "metadata": {},
   "source": [
    "<h4><font color = #F09426>En este caso ya no tenemos unicamente textos cortos. La gran variedad de palabras reconocidas podría mejorarse un poco adaptando la base de datos que se usa como listado de palabras; incluir quizá palabras más comunes en el lenguaje. Por otro lado, anteriormente mencionamos la posibilidad de acomodar el algoritmo para dejar la menor cantidad de carectéres aislados que sea posible, esto en el caso de textos falsos cortos es un ligero inconveniente, porque aumenta la probabilidad de que se formen palabras de longitud pequeña como ocurrió con la palabra 'way'. </font></h4>"
   ]
  },
  {
   "cell_type": "markdown",
   "id": "a9ee659b-bcc5-43e2-b538-e0db39ffeaf3",
   "metadata": {},
   "source": [
    "<h4><font color =#F09426>Posteriormente crearemos una nueva función para reconcer textos haciendo uso de las mejoras que han surgido a partir de este análisis exporatorio y compararemos los resultados obtenidos. Ahora debemos definir una función que filtre todas las opciones de desencriptación que ha generado nuestro algoritmo previo. Teniendo en cuenta los rangos de porcentaje para textos reales y una posible aparición de datos atípicos tanto de textos reales como falsos, estableceremos el porcentaje admisible en un $70\\%$.</font></h4>"
   ]
  },
  {
   "cell_type": "code",
   "execution_count": 145,
   "id": "c7592367-d3c2-41b2-b3c5-c56448021377",
   "metadata": {},
   "outputs": [],
   "source": [
    "def filter_encrypt_options(options_decrypt):\n",
    "    \n",
    "    found = False\n",
    "    cont = 0\n",
    "    \n",
    "    for x in options_decrypt:\n",
    "        \n",
    "        A = percent_real_text(x, dfs)\n",
    "        \n",
    "        if A[0] >= 70:\n",
    "            \n",
    "            cont += 1\n",
    "            print(Fore.BLUE, f'Option {cont}: accuracy {A[0]}%  \\n ---------------------------', Style.RESET_ALL)\n",
    "            \n",
    "            style_text(A[1], eval_real_percent = False)\n",
    "            found = True\n",
    "    if not found:\n",
    "        print(Fore.BLUE,'---------------------------\\n  Any option was recognized\\n ---------------------------\\n', Style.RESET_ALL)"
   ]
  },
  {
   "cell_type": "code",
   "execution_count": 126,
   "id": "fd02488e-11d3-409b-94b1-635fc4da1a92",
   "metadata": {},
   "outputs": [
    {
     "name": "stdout",
     "output_type": "stream",
     "text": [
      "\u001b[34m Option 1: accuracy 100.0%  \n",
      " --------------------------- \u001b[0m\n",
      "\u001b[32mreading\u001b[0m \u001b[32mcan\u001b[0m \u001b[32mopen\u001b[0m \u001b[32myour\u001b[0m \u001b[32mmind\u001b[0m \u001b[32mto\u001b[0m \u001b[32mbrilliant\u001b[0m \u001b[32mnew\u001b[0m \u001b[32mworld\u001b[0m \u001b[32msand\u001b[0m \u001b[32mtake\u001b[0m \u001b[32myou\u001b[0m \u001b[32mto\u001b[0m \u001b[32manew\u001b[0m \u001b[32mlevel\u001b[0m \u001b[32mof\u001b[0m \u001b[32menglish\u001b[0m \u001b[32mlanguage\u001b[0m \u001b[32mlearning\u001b[0m \u001b[32mit\u001b[0m \u001b[32mmay\u001b[0m \u001b[32mfeel\u001b[0m \u001b[32mlike\u001b[0m \u001b[32mas\u001b[0m \u001b[32mlow\u001b[0m \u001b[32mprocess\u001b[0m \u001b[32mbut\u001b[0m \u001b[32mit\u001b[0m \u001b[32mis\u001b[0m \u001b[32meffective\u001b[0m \n"
     ]
    }
   ],
   "source": [
    "filter_encrypt_options(options_decrypt)"
   ]
  },
  {
   "cell_type": "markdown",
   "id": "6b10db50-fb7e-4639-af59-6c97433c4ffb",
   "metadata": {},
   "source": [
    "<h4><font color =#F09426>\n",
    "Podemos ver que nuestro código ahora solo nos muestra una única opción y además ha reconocido el texto con un $100 \\%$ de efectividad. Esto no significa para nada que el algoritmo sea completamente eficaz, sino que logró acomodar de alguna forma todo el texto con palabras conocidas. comparemos con el texto original para ver la precisión de desencriptación. </font></h4>\n",
    "\n",
    "\n",
    "<h4><font color = 'red'>\n",
    "\"Reading can open your mind to brilliant new worlds and take you to a new level of English language learning.\n",
    "It may feel like a slow process, but it is effective.\" </font></h4>\n",
    "\n",
    "<h4><font color =#F09426>\n",
    "Al haber filtrado todas las posibilidades el usuario ya podría terminar de acomodar el texto, agregando signos de puntuación y terminar de decifrar el mensaje encriptado. </font></h4>"
   ]
  },
  {
   "cell_type": "markdown",
   "id": "3516f7cb-9b8e-4355-9198-c866d0686acc",
   "metadata": {},
   "source": [
    "<h3> <font color = #5DADE2><b>Motivación para nuevos proyectos</b></font></h3>\n",
    "<h4><font color = #F09426> Intentemos el mismo proceso que ya hemos planteado con el mensaje:</font></h4>\n",
    "\n",
    "<h4><font color = #F09426>\n",
    "\"accag eaeei kxaax ennxs gdgnl sexxp xmoex likhs uaate begxe oztgc kedmw xlzxe oxxxa hcvls em\" </font></h4>"
   ]
  },
  {
   "cell_type": "code",
   "execution_count": 23,
   "id": "2a560b9f-81db-4607-b1fc-a7cfbb63b381",
   "metadata": {},
   "outputs": [
    {
     "name": "stdout",
     "output_type": "stream",
     "text": [
      "\u001b[34m ---------------------------\n",
      "  Any option was recognized\n",
      " ---------------------------\n",
      " \u001b[0m \n",
      "\n"
     ]
    }
   ],
   "source": [
    "Text = 'accag eaeei kxaax ennxs gdgnl sexxp xmoex likhs uaate begxe oztgc kedmw xlzxe oxxxa hcvls em'\n",
    "data = prepare_cryptogram(Text, False)\n",
    "\n",
    "options_decrypt = higher_frequency_assignations(words_frecuency, data)\n",
    "\n",
    "filter_encrypt_options(options_decrypt)"
   ]
  },
  {
   "cell_type": "code",
   "execution_count": 36,
   "id": "89a6b6c3-0260-44eb-ac2c-b724b3792aab",
   "metadata": {},
   "outputs": [],
   "source": [
    "P = pd.DataFrame({'A': [1, 4], 'B': [4,9]}) "
   ]
  },
  {
   "cell_type": "markdown",
   "id": "8d8829c0-01c8-41e6-9c5f-2c034904708f",
   "metadata": {},
   "source": [
    "\n",
    "<h4><font color = #F09426>\n",
    "Como vemos bajo el uso de una transformación afín, habrá textos encriptados que no sea posible decodificar. Esto se debe al hecho de que hay muchas más formas de distribuir el alfabeto que formas de hacer la elección de $a$ y $b$, esto es, podemos decodificar un mensaje donde su solución no se podrá encontar unicamente con lo que aquí hemos planteado. Se puede extender el razonamiento que se ha aplicado, al asignar cada letra que aparezca en el criptograma; sin embargo hay un inconveniente al proceder de esta manera y es que al probar todas las formas posibles de hacer dichas asignaciones, habrán aquellas que difieran solo en unas pocas letras, con lo que si una es aceptada por el algoritmo de reconocimiento la otra también lo será, es decir, que nuevamente podría aparecer varias posibilidades para un mismo texto. </font></h4>"
   ]
  }
 ],
 "metadata": {
  "kernelspec": {
   "display_name": "Python 3 (ipykernel)",
   "language": "python",
   "name": "python3"
  },
  "language_info": {
   "codemirror_mode": {
    "name": "ipython",
    "version": 3
   },
   "file_extension": ".py",
   "mimetype": "text/x-python",
   "name": "python",
   "nbconvert_exporter": "python",
   "pygments_lexer": "ipython3",
   "version": "3.9.13"
  }
 },
 "nbformat": 4,
 "nbformat_minor": 5
}
